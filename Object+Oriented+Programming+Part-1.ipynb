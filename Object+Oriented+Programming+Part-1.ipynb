{
 "cells": [
  {
   "cell_type": "code",
   "execution_count": 4,
   "metadata": {},
   "outputs": [
    {
     "data": {
      "text/plain": [
       "list"
      ]
     },
     "execution_count": 4,
     "metadata": {},
     "output_type": "execute_result"
    }
   ],
   "source": [
    "l=[1,2,3]\n",
    "type(l)"
   ]
  },
  {
   "cell_type": "code",
   "execution_count": 18,
   "metadata": {},
   "outputs": [
    {
     "data": {
      "text/plain": [
       "function"
      ]
     },
     "execution_count": 18,
     "metadata": {},
     "output_type": "execute_result"
    }
   ],
   "source": [
    "def square(num):\n",
    "    return num**2\n",
    "square(3)\n",
    "type(square)\n"
   ]
  },
  {
   "cell_type": "markdown",
   "metadata": {},
   "source": [
    "class keyword for own object type , evrything in python is object for example type of above square function is also object of type function"
   ]
  },
  {
   "cell_type": "code",
   "execution_count": 20,
   "metadata": {
    "collapsed": true
   },
   "outputs": [],
   "source": [
    "class Sample(object):\n",
    "    pass"
   ]
  },
  {
   "cell_type": "code",
   "execution_count": 24,
   "metadata": {},
   "outputs": [
    {
     "data": {
      "text/plain": [
       "__main__.Sample"
      ]
     },
     "execution_count": 24,
     "metadata": {},
     "output_type": "execute_result"
    }
   ],
   "source": [
    "x=Sample()\n",
    "type(x)"
   ]
  },
  {
   "cell_type": "code",
   "execution_count": 76,
   "metadata": {
    "collapsed": true
   },
   "outputs": [],
   "source": [
    "class Dog(object):\n",
    "    #class object attribute\n",
    "    species='mammal'\n",
    "    type_of_eater='omnivorous'\n",
    "    \n",
    "    def __init__(self,breed,colour,fur=True):\n",
    "        self.breed=breed\n",
    "        self.colour=colour\n",
    "        self.fur=fur\n"
   ]
  },
  {
   "cell_type": "code",
   "execution_count": 80,
   "metadata": {},
   "outputs": [
    {
     "name": "stdout",
     "output_type": "stream",
     "text": [
      "mammal\n",
      "Hutch\n",
      "Black\n",
      "False\n",
      "omnivorous\n"
     ]
    }
   ],
   "source": [
    "kaj = Dog(breed='Hutch',colour='Black',fur=False) \n",
    "print(kaj.species)\n",
    "print(kaj.breed)\n",
    "print(kaj.colour)\n",
    "print(kaj.fur)\n",
    "print(kaj.type_of_eater)"
   ]
  },
  {
   "cell_type": "code",
   "execution_count": 83,
   "metadata": {},
   "outputs": [],
   "source": [
    "class Circle(object):\n",
    "    \n",
    "    #class object atribute\n",
    "    pi=3.14\n",
    "           \n",
    "    def __init__(self,radius=1):\n",
    "        self.radius=radius\n",
    "        self.old_perimeter=2*Circle.pi*(self.radius)\n",
    "    def area(self) :\n",
    "        return (self.radius**2)*Circle.pi\n",
    "    def set_radius(self,new_radius):\n",
    "        self.radius=new_radius\n",
    "\n",
    "    \n",
    "             "
   ]
  },
  {
   "cell_type": "code",
   "execution_count": 84,
   "metadata": {},
   "outputs": [
    {
     "name": "stdout",
     "output_type": "stream",
     "text": [
      "3.14\n",
      "1\n"
     ]
    }
   ],
   "source": [
    "c=Circle()\n",
    "print(c.area())\n",
    "print(c.radius)"
   ]
  },
  {
   "cell_type": "code",
   "execution_count": 85,
   "metadata": {},
   "outputs": [
    {
     "name": "stdout",
     "output_type": "stream",
     "text": [
      "3.14\n",
      "1\n",
      "6.28\n"
     ]
    }
   ],
   "source": [
    "c.set_radius(1)\n",
    "print(c.area())\n",
    "print(c.radius)\n",
    "print(c.old_perimeter)\n"
   ]
  }
 ],
 "metadata": {
  "kernelspec": {
   "display_name": "Python 3",
   "language": "python",
   "name": "python3"
  },
  "language_info": {
   "codemirror_mode": {
    "name": "ipython",
    "version": 3
   },
   "file_extension": ".py",
   "mimetype": "text/x-python",
   "name": "python",
   "nbconvert_exporter": "python",
   "pygments_lexer": "ipython3",
   "version": "3.6.3"
  }
 },
 "nbformat": 4,
 "nbformat_minor": 2
}
