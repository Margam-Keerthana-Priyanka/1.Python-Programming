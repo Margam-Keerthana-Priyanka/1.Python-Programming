{
 "cells": [
  {
   "cell_type": "code",
   "execution_count": 88,
   "metadata": {},
   "outputs": [
    {
     "name": "stdout",
     "output_type": "stream",
     "text": [
      "Hello world!\n",
      "Hello world!\n",
      "keerthana\n",
      "SSSSSKEERTHANASSSSSS\n",
      "b'Hello world!'\n",
      "False\n",
      "True\n",
      "False\n",
      "True\n",
      "  tab     tab  \n",
      "  tab       tab  \n",
      "True\n",
      "False\n",
      "  TAB\t  TAB  \n",
      "tab\t  tab  \n",
      "  tab\t  tab  SSSSSSS\n",
      "True\n",
      "False\n",
      "KEERTH!N!\n",
      "K@3!u\n",
      "{97: 64, 101: 51, 105: 33}\n",
      "['KEERTH', 'N', '']\n",
      "['K', '', 'RTHANA']\n"
     ]
    }
   ],
   "source": [
    "s='Hello world!'\n",
    "s1='KEERTHANA'\n",
    "s2='  tab\\t  tab  '\n",
    "s3='Title Case'\n",
    "s4='Kaeiu'\n",
    "intrans='aei'\n",
    "outtrans='@3!'\n",
    "print(s)\n",
    "print(s.capitalize())\n",
    "print(s1.casefold())\n",
    "print(s1.center(20,'S'))\n",
    "print(s.encode())\n",
    "print(s.endswith('Z'))\n",
    "print(s.endswith('!'))\n",
    "print(s.endswith('ld!',5,6))\n",
    "print(s.endswith('ello',0,5))\n",
    "print(s2.expandtabs())\n",
    "print(s2.expandtabs(10))\n",
    "print(s3.istitle())\n",
    "print(s2.istitle())\n",
    "print(s2.swapcase())\n",
    "print(s2.lstrip())\n",
    "print(s2.ljust(20,'S'))\n",
    "print(s.isprintable())\n",
    "print(s2.isprintable())\n",
    "print(s1.replace('A','!'))\n",
    "print (s4.translate(s4.maketrans(intrans, outtrans)))\n",
    "print(s4.maketrans(intrans, outtrans))\n",
    "print (s1.split('A',3))\n",
    "print(s1.split('E'))\n"
   ]
  },
  {
   "cell_type": "code",
   "execution_count": 69,
   "metadata": {},
   "outputs": [
    {
     "name": "stdout",
     "output_type": "stream",
     "text": [
      "\\b\n",
      "\\n\n"
     ]
    }
   ],
   "source": [
    "print (r'\\b') \n",
    "print (R'\\n')"
   ]
  }
 ],
 "metadata": {
  "kernelspec": {
   "display_name": "Python 3",
   "language": "python",
   "name": "python3"
  },
  "language_info": {
   "codemirror_mode": {
    "name": "ipython",
    "version": 3
   },
   "file_extension": ".py",
   "mimetype": "text/x-python",
   "name": "python",
   "nbconvert_exporter": "python",
   "pygments_lexer": "ipython3",
   "version": "3.6.3"
  }
 },
 "nbformat": 4,
 "nbformat_minor": 2
}
