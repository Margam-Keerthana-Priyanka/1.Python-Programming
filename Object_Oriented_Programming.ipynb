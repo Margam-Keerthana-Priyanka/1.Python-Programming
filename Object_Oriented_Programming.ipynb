{
 "cells": [
  {
   "cell_type": "code",
   "execution_count": 5,
   "metadata": {},
   "outputs": [
    {
     "name": "stdout",
     "output_type": "stream",
     "text": [
      "8 4\n"
     ]
    }
   ],
   "source": [
    "def square(n):\n",
    "    return n**2\n",
    "k=square(2)\n",
    "print(k+k,k)"
   ]
  },
  {
   "cell_type": "markdown",
   "metadata": {},
   "source": [
    "#### class keyword\n"
   ]
  },
  {
   "cell_type": "code",
   "execution_count": 4,
   "metadata": {},
   "outputs": [
    {
     "data": {
      "text/plain": [
       "__main__.first"
      ]
     },
     "execution_count": 4,
     "metadata": {},
     "output_type": "execute_result"
    }
   ],
   "source": [
    "class first(object):\n",
    "    pass\n",
    "x=first()\n",
    "type(x)\n",
    "# x is same first clas type"
   ]
  },
  {
   "cell_type": "code",
   "execution_count": 71,
   "metadata": {},
   "outputs": [
    {
     "data": {
      "text/plain": [
       "12003301"
      ]
     },
     "execution_count": 71,
     "metadata": {},
     "output_type": "execute_result"
    }
   ],
   "source": [
    "class employee(object):\n",
    "    def __init__(self,roll_no):\n",
    "        self.roll_no=roll_no\n",
    "e1=employee(roll_no=12003301)\n",
    "e1.roll_no\n"
   ]
  },
  {
   "cell_type": "code",
   "execution_count": 73,
   "metadata": {},
   "outputs": [
    {
     "data": {
      "text/plain": [
       "12003333"
      ]
     },
     "execution_count": 73,
     "metadata": {},
     "output_type": "execute_result"
    }
   ],
   "source": [
    "e1=employee(roll_no=12003333)\n",
    "e1.roll_no"
   ]
  },
  {
   "cell_type": "code",
   "execution_count": 74,
   "metadata": {},
   "outputs": [
    {
     "data": {
      "text/plain": [
       "'Nighty'"
      ]
     },
     "execution_count": 74,
     "metadata": {},
     "output_type": "execute_result"
    }
   ],
   "source": [
    "from IPython.display import clear_output\n",
    "class Dog(object):\n",
    "    def __init__(self,breed):\n",
    "        self.breed=breed\n",
    "sam=Dog(breed='Nighty')\n",
    "sam.breed\n"
   ]
  },
  {
   "cell_type": "code",
   "execution_count": null,
   "metadata": {},
   "outputs": [
    {
     "name": "stdout",
     "output_type": "stream",
     "text": [
      "how many objects you would like to create???2\n",
      "\n",
      "\n",
      "List of Technical Consultant 's\n",
      "------------------\n",
      "Enter roll number: 12002201\n"
     ]
    }
   ],
   "source": [
    "class employee(object):\n",
    "    #class object Attribute\n",
    "    designation = 'Technical Consultant'\n",
    "    \n",
    "    #class object method\n",
    "    def __init__(self,roll_no='',name=''):\n",
    "        self.roll_no=roll_no\n",
    "        self.name=name\n",
    "i=int(input('how many objects you would like to create???'))  \n",
    "print('\\n')\n",
    "e=employee()\n",
    "print('List of',e.designation,\"'s\")\n",
    "print('------------------')\n",
    "while i>0:\n",
    "    ei=employee(roll_no=int(input('Enter roll number: ')),name=input('Enter name: '))\n",
    "    print('\\n')\n",
    "    print(ei.roll_no,'||',ei.name)\n",
    "    i-=1\n"
   ]
  },
  {
   "cell_type": "code",
   "execution_count": null,
   "metadata": {
    "collapsed": true
   },
   "outputs": [],
   "source": [
    "class employee(object):\n",
    "    #class object Attribute\n",
    "    designation = 'Technical Consultant'\n",
    "    i=int(input('how many objects you would like to create???'))\n",
    "    #class object method\n",
    "    def __init__(self,roll_no='',name=''):\n",
    "        self.roll_no=roll_no\n",
    "        self.name=name\n",
    "        \n",
    "    def details(self,object):\n",
    "            for i in [1,2]:\n",
    "                print(ei.name,'||',ei.roll_no)\n",
    "\n",
    "\n",
    "while employee.i>0:\n",
    "    ei=employee(roll_no=int(input('Enter roll number: ')),name=input('Enter name: '))\n",
    "    print('\\n')\n",
    "    i-=1\n",
    "ei.details(ei)\n",
    "    "
   ]
  },
  {
   "cell_type": "code",
   "execution_count": 29,
   "metadata": {
    "collapsed": true
   },
   "outputs": [],
   "source": [
    "class circle(object):\n",
    "    pi=3.14 \n",
    "    def __init__(self,radius=1):\n",
    "        self.radius=radius\n",
    "    def area(self):\n",
    "        return(self.radius**2)*circle.pi"
   ]
  },
  {
   "cell_type": "code",
   "execution_count": 27,
   "metadata": {
    "collapsed": true
   },
   "outputs": [],
   "source": [
    "c=circle(object)\n",
    "c=circle(radius=100)\n"
   ]
  },
  {
   "cell_type": "code",
   "execution_count": 30,
   "metadata": {},
   "outputs": [
    {
     "data": {
      "text/plain": [
       "31400.0"
      ]
     },
     "execution_count": 30,
     "metadata": {},
     "output_type": "execute_result"
    }
   ],
   "source": [
    "c.radius\n",
    "c.area()"
   ]
  }
 ],
 "metadata": {
  "kernelspec": {
   "display_name": "Python 3",
   "language": "python",
   "name": "python3"
  },
  "language_info": {
   "codemirror_mode": {
    "name": "ipython",
    "version": 3
   },
   "file_extension": ".py",
   "mimetype": "text/x-python",
   "name": "python",
   "nbconvert_exporter": "python",
   "pygments_lexer": "ipython3",
   "version": "3.6.3"
  }
 },
 "nbformat": 4,
 "nbformat_minor": 2
}
