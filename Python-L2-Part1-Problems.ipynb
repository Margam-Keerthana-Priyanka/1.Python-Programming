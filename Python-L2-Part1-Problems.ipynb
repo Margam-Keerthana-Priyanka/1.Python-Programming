{
 "cells": [
  {
   "cell_type": "code",
   "execution_count": 5,
   "metadata": {},
   "outputs": [
    {
     "name": "stdout",
     "output_type": "stream",
     "text": [
      "10\n",
      "20\n",
      "0\n"
     ]
    }
   ],
   "source": [
    "class first():\n",
    "    class_member=0 #stat var\n",
    "obj1=first()\n",
    "obj2=first()\n",
    "obj1.class_member= 10 # class/ object variable\n",
    "obj2.class_member=20\n",
    "\n",
    "\n",
    "print(obj1.class_member)\n",
    "print(obj2.class_member)\n",
    "print(first.class_member)"
   ]
  },
  {
   "cell_type": "code",
   "execution_count": 8,
   "metadata": {},
   "outputs": [
    {
     "name": "stdout",
     "output_type": "stream",
     "text": [
      "self method <__main__.wipro object at 0x05CD9E70>\n",
      "\n",
      "types are  <class '__main__.wipro'> <class 'type'>\n",
      "\n",
      "Reference are  97361520 65552432\n",
      "\n",
      "refe in hex format 5cd9e70 \n",
      "\n",
      "referenc is :  <__main__.wipro object at 0x05CD9E70>\n",
      "\n",
      "content of class is  ['__class__', '__delattr__', '__dict__', '__dir__', '__doc__', '__eq__', '__format__', '__ge__', '__getattribute__', '__gt__', '__hash__', '__init__', '__init_subclass__', '__le__', '__lt__', '__module__', '__ne__', '__new__', '__reduce__', '__reduce_ex__', '__repr__', '__setattr__', '__sizeof__', '__str__', '__subclasshook__', '__weakref__', 'display']\n",
      "\n",
      "Content of obj  ['__class__', '__delattr__', '__dict__', '__dir__', '__doc__', '__eq__', '__format__', '__ge__', '__getattribute__', '__gt__', '__hash__', '__init__', '__init_subclass__', '__le__', '__lt__', '__module__', '__ne__', '__new__', '__reduce__', '__reduce_ex__', '__repr__', '__setattr__', '__sizeof__', '__str__', '__subclasshook__', '__weakref__', 'display']\n"
     ]
    }
   ],
   "source": [
    "class wipro():\n",
    "    def display(self):\n",
    "        print('self method',self)\n",
    "m=wipro()\n",
    "m.display()\n",
    "\n",
    "print('\\ntypes are ',type(m),type(wipro))\n",
    "print('\\nReference are ',id(m),id(wipro))\n",
    "print('\\nrefe in hex format %x ' %id(m))\n",
    "print('\\nreferenc is : ',m)\n",
    "print('\\ncontent of class is ',dir(wipro))\n",
    "print('\\nContent of obj ',dir(m))"
   ]
  },
  {
   "cell_type": "code",
   "execution_count": 9,
   "metadata": {},
   "outputs": [
    {
     "name": "stdout",
     "output_type": "stream",
     "text": [
      "Inside display  <__main__.wipro object at 0x03E756D0>\n",
      "Inside display  <__main__.wipro object at 0x03E75750>\n",
      "Address of m 3e756d0 and n is 3e75750 \n",
      "Address of m is  <__main__.wipro object at 0x03E756D0> and n is <__main__.wipro object at 0x03E75750>\n"
     ]
    }
   ],
   "source": [
    "class wipro():\n",
    "    def display(self):\n",
    "        print('Inside display ',self)\n",
    "m=wipro()\n",
    "n=wipro()\n",
    "m.display()\n",
    "n.display()\n",
    "print('Address of m %x and n is %x '%(id(m),id(n)))\n",
    "print('Address of m is ',m, 'and n is',n)"
   ]
  },
  {
   "cell_type": "code",
   "execution_count": 18,
   "metadata": {},
   "outputs": [
    {
     "name": "stdout",
     "output_type": "stream",
     "text": [
      "constructr created! 1 2\n",
      "constructr created! 3 4\n",
      "Destructor executed <__main__.wipro object at 0x05CCF790>\n",
      "members are  1 2\n",
      "members are  3 4\n",
      "1 2\n",
      "3 4\n",
      "['__class__', '__del__', '__delattr__', '__dict__', '__dir__', '__doc__', '__eq__', '__format__', '__ge__', '__getattribute__', '__gt__', '__hash__', '__init__', '__init_subclass__', '__le__', '__lt__', '__module__', '__ne__', '__new__', '__reduce__', '__reduce_ex__', '__repr__', '__setattr__', '__sizeof__', '__str__', '__subclasshook__', '__weakref__', 'display']\n",
      "['__class__', '__del__', '__delattr__', '__dict__', '__dir__', '__doc__', '__eq__', '__format__', '__ge__', '__getattribute__', '__gt__', '__hash__', '__init__', '__init_subclass__', '__le__', '__lt__', '__module__', '__ne__', '__new__', '__reduce__', '__reduce_ex__', '__repr__', '__setattr__', '__sizeof__', '__str__', '__subclasshook__', '__weakref__', 'a', 'b', 'display']\n",
      "Destructor executed <__main__.wipro object at 0x03E753B0>\n",
      "\n",
      "destructor manually created\n",
      "\n",
      "defalut container ['In', 'Out', '_', '__', '___', '__builtin__', '__builtins__', '__doc__', '__loader__', '__name__', '__package__', '__spec__', '_dh', '_i', '_i1', '_i10', '_i11', '_i12', '_i13', '_i14', '_i15', '_i16', '_i17', '_i18', '_i2', '_i3', '_i4', '_i5', '_i6', '_i7', '_i8', '_i9', '_ih', '_ii', '_iii', '_oh', 'exit', 'first', 'get_ipython', 'n', 'obj', 'obj1', 'obj2', 'quit', 'wipro']\n"
     ]
    }
   ],
   "source": [
    "class wipro():\n",
    "    def __init__(self,x,y):\n",
    "        self.a=x\n",
    "        self.b=y\n",
    "        print('constructr created!',self.a,self.b)\n",
    "    def display(self):\n",
    "        print('members are ',self.a,self.b)\n",
    "    def __del__(self):\n",
    "        print('Destructor executed',self)\n",
    "m=wipro(1,2)\n",
    "n=wipro(3,4)\n",
    "m.display()\n",
    "n.display()\n",
    "print(m.a,m.b)\n",
    "print(n.a,n.b)\n",
    "print(dir(wipro))\n",
    "print(dir(m))\n",
    "del m\n",
    "print('\\ndestructor manually created')\n",
    "print('\\ndefalut container',dir())"
   ]
  }
 ],
 "metadata": {
  "kernelspec": {
   "display_name": "Python 3",
   "language": "python",
   "name": "python3"
  },
  "language_info": {
   "codemirror_mode": {
    "name": "ipython",
    "version": 3
   },
   "file_extension": ".py",
   "mimetype": "text/x-python",
   "name": "python",
   "nbconvert_exporter": "python",
   "pygments_lexer": "ipython3",
   "version": "3.6.3"
  }
 },
 "nbformat": 4,
 "nbformat_minor": 2
}
