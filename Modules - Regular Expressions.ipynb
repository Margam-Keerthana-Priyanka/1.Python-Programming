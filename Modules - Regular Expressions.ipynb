{
 "cells": [
  {
   "cell_type": "code",
   "execution_count": 3,
   "metadata": {
    "collapsed": true
   },
   "outputs": [],
   "source": [
    "import re"
   ]
  },
  {
   "cell_type": "code",
   "execution_count": 2,
   "metadata": {},
   "outputs": [
    {
     "data": {
      "text/plain": [
       "<_sre.SRE_Match object; span=(0, 5), match='hello'>"
      ]
     },
     "execution_count": 2,
     "metadata": {},
     "output_type": "execute_result"
    }
   ],
   "source": [
    "patterns= ['term1','term2']\n",
    "text='This is term1, but not term2'\n",
    "re.search('hello','hello world')"
   ]
  },
  {
   "cell_type": "code",
   "execution_count": 15,
   "metadata": {},
   "outputs": [
    {
     "name": "stdout",
     "output_type": "stream",
     "text": [
      "Enter the person to find in db moini\n",
      "searching for moini in db\n",
      "\n",
      " Match found \n",
      "\n",
      "\n",
      " Entered data exists in db \n",
      "\n"
     ]
    }
   ],
   "source": [
    "patterns= ['keerthana','moini']\n",
    "text=input('Enter the person to find in db ')\n",
    "counter=0\n",
    "print('searching for %s in db'%(text))\n",
    "for pattern in patterns:\n",
    "   \n",
    "    if re.search(pattern,text):\n",
    "            print('\\n Match found \\n')\n",
    "            counter+=1\n",
    "            break\n",
    "if(counter>0):\n",
    "        print('\\n Entered data exists in db \\n')"
   ]
  },
  {
   "cell_type": "code",
   "execution_count": 24,
   "metadata": {},
   "outputs": [
    {
     "name": "stdout",
     "output_type": "stream",
     "text": [
      "<class '_sre.SRE_Match'>\n"
     ]
    }
   ],
   "source": [
    "print(type(re.search('h','llh')))"
   ]
  },
  {
   "cell_type": "code",
   "execution_count": 34,
   "metadata": {},
   "outputs": [
    {
     "name": "stdout",
     "output_type": "stream",
     "text": [
      "7\n",
      "8\n"
     ]
    }
   ],
   "source": [
    "match=re.search('h','klujlophhh')\n",
    "print(match.start())\n",
    "print(match.end())"
   ]
  },
  {
   "cell_type": "code",
   "execution_count": 37,
   "metadata": {},
   "outputs": [
    {
     "data": {
      "text/plain": [
       "['howz', 'your', 'day']"
      ]
     },
     "execution_count": 37,
     "metadata": {},
     "output_type": "execute_result"
    }
   ],
   "source": [
    "split_at=' '\n",
    "text='howz your day'\n",
    "re.split(split_at,text)"
   ]
  },
  {
   "cell_type": "code",
   "execution_count": 38,
   "metadata": {},
   "outputs": [
    {
     "data": {
      "text/plain": [
       "['margam.priyanka', 'wipro.com']"
      ]
     },
     "execution_count": 38,
     "metadata": {},
     "output_type": "execute_result"
    }
   ],
   "source": [
    "'margam.priyanka@wipro.com'.split('@')"
   ]
  },
  {
   "cell_type": "code",
   "execution_count": 46,
   "metadata": {},
   "outputs": [
    {
     "name": "stdout",
     "output_type": "stream",
     "text": [
      "['match', 'match']\n",
      "2\n"
     ]
    }
   ],
   "source": [
    "print(re.findall('match','how you match, mathc, mathc ,match'))\n",
    "print(len(re.findall('match','how you match, mathc, mathc ,match')))\n"
   ]
  },
  {
   "cell_type": "code",
   "execution_count": 16,
   "metadata": {},
   "outputs": [
    {
     "name": "stdout",
     "output_type": "stream",
     "text": [
      "Enter the person to find in db keerthana moini keerthana moini margam\n",
      "searching for keerthana moini keerthana moini margam in db\n",
      "2 Match(s) found\n"
     ]
    }
   ],
   "source": [
    "patterns= ['keerthana','moini']\n",
    "text=input('Enter the person to find in db ')\n",
    "counter=0\n",
    "print('searching for %s in db'%(text))\n",
    "for pattern in patterns:\n",
    "    if re.search(pattern,text):\n",
    "            counter+=1\n",
    "if(counter>0):\n",
    "    print(counter,'Match(s) found')\n",
    "else:\n",
    "    print('match not found!')"
   ]
  },
  {
   "cell_type": "code",
   "execution_count": 17,
   "metadata": {},
   "outputs": [
    {
     "ename": "NameError",
     "evalue": "name 'multi_re_find' is not defined",
     "output_type": "error",
     "traceback": [
      "\u001b[1;31m---------------------------------------------------------------------------\u001b[0m",
      "\u001b[1;31mNameError\u001b[0m                                 Traceback (most recent call last)",
      "\u001b[1;32m<ipython-input-17-d8a43464dcc3>\u001b[0m in \u001b[0;36m<module>\u001b[1;34m()\u001b[0m\n\u001b[0;32m      6\u001b[0m               \u001b[1;34m'ad{3}'\u001b[0m\u001b[1;33m,\u001b[0m\u001b[1;33m\u001b[0m\u001b[0m\n\u001b[0;32m      7\u001b[0m               'ad{2,3}']\n\u001b[1;32m----> 8\u001b[1;33m \u001b[0mmulti_re_find\u001b[0m\u001b[1;33m(\u001b[0m\u001b[0mtest_patterns\u001b[0m\u001b[1;33m,\u001b[0m\u001b[0mtest\u001b[0m\u001b[1;33m)\u001b[0m\u001b[1;33m\u001b[0m\u001b[0m\n\u001b[0m",
      "\u001b[1;31mNameError\u001b[0m: name 'multi_re_find' is not defined"
     ]
    }
   ],
   "source": [
    "test='adad..aaaddd...addadd..dada...daaaa...adddd'\n",
    "\n",
    "test_patterns=['ad*',\n",
    "              'ad+',\n",
    "              '+ad',\n",
    "              'ad{3}',\n",
    "              'ad{2,3}']\n",
    "multi_re_find(test_patterns,test)"
   ]
  }
 ],
 "metadata": {
  "kernelspec": {
   "display_name": "Python 3",
   "language": "python",
   "name": "python3"
  },
  "language_info": {
   "codemirror_mode": {
    "name": "ipython",
    "version": 3
   },
   "file_extension": ".py",
   "mimetype": "text/x-python",
   "name": "python",
   "nbconvert_exporter": "python",
   "pygments_lexer": "ipython3",
   "version": "3.6.3"
  }
 },
 "nbformat": 4,
 "nbformat_minor": 2
}
