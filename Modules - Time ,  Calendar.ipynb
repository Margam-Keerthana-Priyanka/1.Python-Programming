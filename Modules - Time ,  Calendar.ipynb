{
 "cells": [
  {
   "cell_type": "code",
   "execution_count": 23,
   "metadata": {},
   "outputs": [
    {
     "name": "stdout",
     "output_type": "stream",
     "text": [
      "Number of ticks since 12:00am, January 1, 1970: 1518421474.701555\n",
      "\n",
      "Local time is:\n",
      " time.struct_time(tm_year=2018, tm_mon=2, tm_mday=12, tm_hour=1, tm_min=44, tm_sec=34, tm_wday=0, tm_yday=43, tm_isdst=0)\n",
      "\n",
      "Current time : \n",
      " Mon Feb 12 01:44:34 2018\n",
      "1518421477.8088446\n",
      "137.98111946866635\n",
      "1518421477.8088446\n"
     ]
    }
   ],
   "source": [
    "import time\n",
    "ticks = time.time()\n",
    "print (\"Number of ticks since 12:00am, January 1, 1970:\", ticks)\n",
    "print('\\nLocal time is:\\n',time.localtime())\n",
    "print('\\nCurrent time : \\n',time.asctime( time.localtime(time.time()) ))\n",
    "time.sleep(3.1)\n",
    "print(time.time())\n",
    "print(time.clock())\n",
    "print(time.time())\n",
    "\n",
    "import calendar\n",
    "\n",
    "cal = calendar.month(2018, 2)\n",
    "print (\"Here is Febrauary calendar:\")\n",
    "print (cal)\n",
    "calendar.isleap(2016)"
   ]
  }
 ],
 "metadata": {
  "kernelspec": {
   "display_name": "Python 3",
   "language": "python",
   "name": "python3"
  },
  "language_info": {
   "codemirror_mode": {
    "name": "ipython",
    "version": 3
   },
   "file_extension": ".py",
   "mimetype": "text/x-python",
   "name": "python",
   "nbconvert_exporter": "python",
   "pygments_lexer": "ipython3",
   "version": "3.6.3"
  }
 },
 "nbformat": 4,
 "nbformat_minor": 2
}
