{
 "cells": [
  {
   "cell_type": "code",
   "execution_count": 4,
   "metadata": {},
   "outputs": [
    {
     "ename": "SyntaxError",
     "evalue": "EOL while scanning string literal (<ipython-input-4-683e48a9a7a9>, line 1)",
     "output_type": "error",
     "traceback": [
      "\u001b[1;36m  File \u001b[1;32m\"<ipython-input-4-683e48a9a7a9>\"\u001b[1;36m, line \u001b[1;32m1\u001b[0m\n\u001b[1;33m    print('Hello)\u001b[0m\n\u001b[1;37m                 ^\u001b[0m\n\u001b[1;31mSyntaxError\u001b[0m\u001b[1;31m:\u001b[0m EOL while scanning string literal\n"
     ]
    }
   ],
   "source": [
    "print('Hello)"
   ]
  },
  {
   "cell_type": "code",
   "execution_count": 6,
   "metadata": {},
   "outputs": [
    {
     "ename": "TypeError",
     "evalue": "unsupported operand type(s) for +: 'int' and 'str'",
     "output_type": "error",
     "traceback": [
      "\u001b[1;31m---------------------------------------------------------------------------\u001b[0m",
      "\u001b[1;31mTypeError\u001b[0m                                 Traceback (most recent call last)",
      "\u001b[1;32m<ipython-input-6-04db0c9bcee5>\u001b[0m in \u001b[0;36m<module>\u001b[1;34m()\u001b[0m\n\u001b[1;32m----> 1\u001b[1;33m \u001b[1;36m2\u001b[0m \u001b[1;33m+\u001b[0m\u001b[1;34m's'\u001b[0m\u001b[1;33m\u001b[0m\u001b[0m\n\u001b[0m",
      "\u001b[1;31mTypeError\u001b[0m: unsupported operand type(s) for +: 'int' and 'str'"
     ]
    }
   ],
   "source": [
    "2 +'s'"
   ]
  },
  {
   "cell_type": "code",
   "execution_count": 12,
   "metadata": {},
   "outputs": [
    {
     "name": "stdout",
     "output_type": "stream",
     "text": [
      "There is a type error\n",
      "this will be printed however as it is in finally block : 2+'s'\n"
     ]
    }
   ],
   "source": [
    "try:\n",
    "    2 +'s'\n",
    "except TypeError:\n",
    "    print('There is a type error')\n",
    "finally:\n",
    "    print(\"this will be printed however as it is in finally block : 2+'s'\")"
   ]
  },
  {
   "cell_type": "code",
   "execution_count": 18,
   "metadata": {},
   "outputs": [
    {
     "name": "stdout",
     "output_type": "stream",
     "text": [
      "File written successfully\n"
     ]
    }
   ],
   "source": [
    "try:\n",
    "    f=open('sampletestfile','w')\n",
    "    f.write('Test write this')\n",
    "except:\n",
    "    print('Error while writing to the file')\n",
    "else:\n",
    "    print('File written successfully')"
   ]
  },
  {
   "cell_type": "code",
   "execution_count": 20,
   "metadata": {},
   "outputs": [
    {
     "name": "stdout",
     "output_type": "stream",
     "text": [
      "Error while writing to the file\n"
     ]
    }
   ],
   "source": [
    "try:\n",
    "    f=open('sampletestfile','r')\n",
    "    f.write('Test write this')\n",
    "except:\n",
    "    print('Error while writing to the file')\n",
    "else:\n",
    "    print('File written successfully')"
   ]
  },
  {
   "cell_type": "code",
   "execution_count": 23,
   "metadata": {},
   "outputs": [
    {
     "name": "stdout",
     "output_type": "stream",
     "text": [
      "There is some eror!\n",
      "This occurs however\n"
     ]
    }
   ],
   "source": [
    "try:\n",
    "    f=open('sampletestfile','r')\n",
    "    f.write('Test write this')\n",
    "except:\n",
    "    print('There is some eror!')\n",
    "finally:\n",
    "    print('This occurs however')"
   ]
  },
  {
   "cell_type": "code",
   "execution_count": 1,
   "metadata": {},
   "outputs": [],
   "source": [
    "def askint():\n",
    "    while True:\n",
    "        try:\n",
    "            val=int(input('Enter integer: '))\n",
    "        except:\n",
    "            print('Enter only integer value')\n",
    "            continue\n",
    "        else:\n",
    "            print('you entered exact ')\n",
    "            break\n",
    "        finally:\n",
    "            print('Integers like 1,2,3...')\n",
    "        print(\"value of val is: %d\" %val)"
   ]
  },
  {
   "cell_type": "code",
   "execution_count": 3,
   "metadata": {},
   "outputs": [
    {
     "name": "stdout",
     "output_type": "stream",
     "text": [
      "Enter integer: s\n",
      "Enter only integer value\n",
      "Integers like 1,2,3...\n",
      "Enter integer: s\n",
      "Enter only integer value\n",
      "Integers like 1,2,3...\n",
      "Enter integer: s\n",
      "Enter only integer value\n",
      "Integers like 1,2,3...\n",
      "Enter integer: sde\n",
      "Enter only integer value\n",
      "Integers like 1,2,3...\n",
      "Enter integer: 2\n",
      "you entered exact \n",
      "Integers like 1,2,3...\n"
     ]
    }
   ],
   "source": [
    "askint()"
   ]
  },
  {
   "cell_type": "code",
   "execution_count": 8,
   "metadata": {},
   "outputs": [
    {
     "name": "stdout",
     "output_type": "stream",
     "text": [
      "i cannot be iterable and i cannot support operations involved\n"
     ]
    }
   ],
   "source": [
    "try:\n",
    "    for i in ['b','a']:\n",
    "        print(i**2)\n",
    "except TypeError:\n",
    "    print('i cannot be iterable and i cannot support operations involved')"
   ]
  },
  {
   "cell_type": "code",
   "execution_count": 5,
   "metadata": {},
   "outputs": [
    {
     "name": "stdout",
     "output_type": "stream",
     "text": [
      "Division by zero, Cant divide by zero\n",
      "all done\n"
     ]
    }
   ],
   "source": [
    "x=5\n",
    "y=0\n",
    "try:\n",
    "    z=x/y\n",
    "except ZeroDivisionError:\n",
    "    print('Division by zero, Cant divide by zero')\n",
    "finally:\n",
    "    print('all done')"
   ]
  },
  {
   "cell_type": "code",
   "execution_count": 6,
   "metadata": {
    "collapsed": true
   },
   "outputs": [],
   "source": [
    "def ask():\n",
    "    while True:\n",
    "        try:\n",
    "            num=int(input('Input an integer: '))\n",
    "        except:\n",
    "            print('An error occured! Please try again!')\n",
    "            continue\n",
    "        else:\n",
    "            print('Thank you, your number squared is :' ,num**2)\n",
    "            break"
   ]
  },
  {
   "cell_type": "code",
   "execution_count": 7,
   "metadata": {},
   "outputs": [
    {
     "name": "stdout",
     "output_type": "stream",
     "text": [
      "Input an integer: null\n",
      "An error occured! Please try again!\n",
      "Input an integer: 2\n",
      "Thank you, your number squared is : 4\n"
     ]
    }
   ],
   "source": [
    "ask()"
   ]
  }
 ],
 "metadata": {
  "kernelspec": {
   "display_name": "Python 3",
   "language": "python",
   "name": "python3"
  },
  "language_info": {
   "codemirror_mode": {
    "name": "ipython",
    "version": 3
   },
   "file_extension": ".py",
   "mimetype": "text/x-python",
   "name": "python",
   "nbconvert_exporter": "python",
   "pygments_lexer": "ipython3",
   "version": "3.6.3"
  }
 },
 "nbformat": 4,
 "nbformat_minor": 2
}
