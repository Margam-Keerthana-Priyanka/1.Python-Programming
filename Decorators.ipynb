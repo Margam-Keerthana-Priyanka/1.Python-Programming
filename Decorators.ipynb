{
 "cells": [
  {
   "cell_type": "code",
   "execution_count": 6,
   "metadata": {
    "collapsed": true
   },
   "outputs": [],
   "source": [
    "def func():\n",
    "    return 1"
   ]
  },
  {
   "cell_type": "code",
   "execution_count": 7,
   "metadata": {},
   "outputs": [
    {
     "data": {
      "text/plain": [
       "1"
      ]
     },
     "execution_count": 7,
     "metadata": {},
     "output_type": "execute_result"
    }
   ],
   "source": [
    "func()\n"
   ]
  },
  {
   "cell_type": "code",
   "execution_count": 8,
   "metadata": {},
   "outputs": [],
   "source": [
    "s= 'Let me do this'\n",
    "def func():\n",
    "    print(locals())\n",
    "    print(globals())\n",
    "    print('hello')"
   ]
  },
  {
   "cell_type": "code",
   "execution_count": 10,
   "metadata": {},
   "outputs": [
    {
     "name": "stdout",
     "output_type": "stream",
     "text": [
      "Let me do this\n"
     ]
    }
   ],
   "source": [
    "print(globals()['s'])"
   ]
  },
  {
   "cell_type": "code",
   "execution_count": 9,
   "metadata": {},
   "outputs": [
    {
     "name": "stdout",
     "output_type": "stream",
     "text": [
      "{}\n",
      "{'__name__': '__main__', '__doc__': 'Automatically created module for IPython interactive environment', '__package__': None, '__loader__': None, '__spec__': None, '__builtin__': <module 'builtins' (built-in)>, '__builtins__': <module 'builtins' (built-in)>, '_ih': ['', 'def func():\\n    return 1', 'def func():\\n    return 1', 'def func():\\n    return 1', 'def func():\\n    return 1', 'func()', 'def func():\\n    return 1', 'func()', \"s= 'Let me do this'\\ndef func():\\n    print(locals())\\n    print(globals())\\n    print('hello')\", 'func()'], '_oh': {5: 1, 7: 1}, '_dh': ['C:\\\\Users\\\\margam'], 'In': ['', 'def func():\\n    return 1', 'def func():\\n    return 1', 'def func():\\n    return 1', 'def func():\\n    return 1', 'func()', 'def func():\\n    return 1', 'func()', \"s= 'Let me do this'\\ndef func():\\n    print(locals())\\n    print(globals())\\n    print('hello')\", 'func()'], 'Out': {5: 1, 7: 1}, 'get_ipython': <bound method InteractiveShell.get_ipython of <ipykernel.zmqshell.ZMQInteractiveShell object at 0x037E9BB0>>, 'exit': <IPython.core.autocall.ZMQExitAutocall object at 0x03823770>, 'quit': <IPython.core.autocall.ZMQExitAutocall object at 0x03823770>, '_': 1, '__': 1, '___': '', '_i': \"s= 'Let me do this'\\ndef func():\\n    print(locals())\\n    print(globals())\\n    print('hello')\", '_ii': 'func()', '_iii': 'def func():\\n    return 1', '_i1': 'def func():\\n    return 1', 'func': <function func at 0x04E51ED0>, '_i2': 'def func():\\n    return 1', '_i3': 'def func():\\n    return 1', '_i4': 'def func():\\n    return 1', '_i5': 'func()', '_5': 1, '_i6': 'def func():\\n    return 1', '_i7': 'func()', '_7': 1, '_i8': \"s= 'Let me do this'\\ndef func():\\n    print(locals())\\n    print(globals())\\n    print('hello')\", 's': 'Let me do this', '_i9': 'func()'}\n",
      "hello\n"
     ]
    }
   ],
   "source": [
    "func()"
   ]
  },
  {
   "cell_type": "code",
   "execution_count": 10,
   "metadata": {},
   "outputs": [
    {
     "name": "stdout",
     "output_type": "stream",
     "text": [
      "{'__name__': '__main__', '__doc__': 'Automatically created module for IPython interactive environment', '__package__': None, '__loader__': None, '__spec__': None, '__builtin__': <module 'builtins' (built-in)>, '__builtins__': <module 'builtins' (built-in)>, '_ih': ['', 'def func():\\n    return 1', 'def func():\\n    return 1', 'def func():\\n    return 1', 'def func():\\n    return 1', 'func()', 'def func():\\n    return 1', 'func()', \"s= 'Let me do this'\\ndef func():\\n    print(locals())\\n    print(globals())\\n    print('hello')\", 'func()', 'print(locals())'], '_oh': {5: 1, 7: 1}, '_dh': ['C:\\\\Users\\\\margam'], 'In': ['', 'def func():\\n    return 1', 'def func():\\n    return 1', 'def func():\\n    return 1', 'def func():\\n    return 1', 'func()', 'def func():\\n    return 1', 'func()', \"s= 'Let me do this'\\ndef func():\\n    print(locals())\\n    print(globals())\\n    print('hello')\", 'func()', 'print(locals())'], 'Out': {5: 1, 7: 1}, 'get_ipython': <bound method InteractiveShell.get_ipython of <ipykernel.zmqshell.ZMQInteractiveShell object at 0x037E9BB0>>, 'exit': <IPython.core.autocall.ZMQExitAutocall object at 0x03823770>, 'quit': <IPython.core.autocall.ZMQExitAutocall object at 0x03823770>, '_': 1, '__': 1, '___': '', '_i': 'func()', '_ii': \"s= 'Let me do this'\\ndef func():\\n    print(locals())\\n    print(globals())\\n    print('hello')\", '_iii': 'func()', '_i1': 'def func():\\n    return 1', 'func': <function func at 0x04E51ED0>, '_i2': 'def func():\\n    return 1', '_i3': 'def func():\\n    return 1', '_i4': 'def func():\\n    return 1', '_i5': 'func()', '_5': 1, '_i6': 'def func():\\n    return 1', '_i7': 'func()', '_7': 1, '_i8': \"s= 'Let me do this'\\ndef func():\\n    print(locals())\\n    print(globals())\\n    print('hello')\", 's': 'Let me do this', '_i9': 'func()', '_i10': 'print(locals())'}\n"
     ]
    }
   ],
   "source": [
    "print(locals())"
   ]
  },
  {
   "cell_type": "code",
   "execution_count": 19,
   "metadata": {
    "collapsed": true
   },
   "outputs": [],
   "source": [
    "def hello(name='Keerthana'):\n",
    "    return 'Hello '+name"
   ]
  },
  {
   "cell_type": "code",
   "execution_count": 20,
   "metadata": {},
   "outputs": [
    {
     "data": {
      "text/plain": [
       "'Hello Keerthana'"
      ]
     },
     "execution_count": 20,
     "metadata": {},
     "output_type": "execute_result"
    }
   ],
   "source": [
    "hello()"
   ]
  },
  {
   "cell_type": "code",
   "execution_count": 21,
   "metadata": {
    "collapsed": true
   },
   "outputs": [],
   "source": [
    "greet=hello"
   ]
  },
  {
   "cell_type": "code",
   "execution_count": 22,
   "metadata": {},
   "outputs": [],
   "source": [
    "del hello"
   ]
  },
  {
   "cell_type": "code",
   "execution_count": 23,
   "metadata": {},
   "outputs": [
    {
     "ename": "NameError",
     "evalue": "name 'hello' is not defined",
     "output_type": "error",
     "traceback": [
      "\u001b[1;31m---------------------------------------------------------------------------\u001b[0m",
      "\u001b[1;31mNameError\u001b[0m                                 Traceback (most recent call last)",
      "\u001b[1;32m<ipython-input-23-a803225a2f97>\u001b[0m in \u001b[0;36m<module>\u001b[1;34m()\u001b[0m\n\u001b[1;32m----> 1\u001b[1;33m \u001b[0mhello\u001b[0m\u001b[1;33m(\u001b[0m\u001b[1;33m)\u001b[0m\u001b[1;33m\u001b[0m\u001b[0m\n\u001b[0m",
      "\u001b[1;31mNameError\u001b[0m: name 'hello' is not defined"
     ]
    }
   ],
   "source": [
    "hello()"
   ]
  },
  {
   "cell_type": "code",
   "execution_count": 24,
   "metadata": {},
   "outputs": [
    {
     "data": {
      "text/plain": [
       "'Hello Keerthana'"
      ]
     },
     "execution_count": 24,
     "metadata": {},
     "output_type": "execute_result"
    }
   ],
   "source": [
    "greet()"
   ]
  },
  {
   "cell_type": "markdown",
   "metadata": {},
   "source": [
    "functions within functions"
   ]
  },
  {
   "cell_type": "code",
   "execution_count": 29,
   "metadata": {},
   "outputs": [],
   "source": [
    "def hello(name='Keerthana'):\n",
    "    print('hello() executed')\n",
    "    \n",
    "    def greet():\n",
    "        return 'This is inside greet()'\n",
    "    def welcome():\n",
    "        return 'welcome() executed'\n",
    "    print(greet())\n",
    "    print(welcome())\n",
    "    "
   ]
  },
  {
   "cell_type": "code",
   "execution_count": 30,
   "metadata": {},
   "outputs": [
    {
     "name": "stdout",
     "output_type": "stream",
     "text": [
      "hello() executed\n",
      "This is inside greet()\n",
      "welcome() executed\n"
     ]
    }
   ],
   "source": [
    "hello()"
   ]
  },
  {
   "cell_type": "code",
   "execution_count": 31,
   "metadata": {},
   "outputs": [
    {
     "data": {
      "text/plain": [
       "'Hello Keerthana'"
      ]
     },
     "execution_count": 31,
     "metadata": {},
     "output_type": "execute_result"
    }
   ],
   "source": [
    "greet()"
   ]
  },
  {
   "cell_type": "code",
   "execution_count": 32,
   "metadata": {},
   "outputs": [
    {
     "ename": "NameError",
     "evalue": "name 'welcome' is not defined",
     "output_type": "error",
     "traceback": [
      "\u001b[1;31m---------------------------------------------------------------------------\u001b[0m",
      "\u001b[1;31mNameError\u001b[0m                                 Traceback (most recent call last)",
      "\u001b[1;32m<ipython-input-32-efaf77b113fd>\u001b[0m in \u001b[0;36m<module>\u001b[1;34m()\u001b[0m\n\u001b[1;32m----> 1\u001b[1;33m \u001b[0mwelcome\u001b[0m\u001b[1;33m(\u001b[0m\u001b[1;33m)\u001b[0m\u001b[1;33m\u001b[0m\u001b[0m\n\u001b[0m",
      "\u001b[1;31mNameError\u001b[0m: name 'welcome' is not defined"
     ]
    }
   ],
   "source": [
    "welcome()"
   ]
  },
  {
   "cell_type": "code",
   "execution_count": 33,
   "metadata": {
    "scrolled": false
   },
   "outputs": [
    {
     "name": "stdout",
     "output_type": "stream",
     "text": [
      "{'__name__': '__main__', '__doc__': 'Automatically created module for IPython interactive environment', '__package__': None, '__loader__': None, '__spec__': None, '__builtin__': <module 'builtins' (built-in)>, '__builtins__': <module 'builtins' (built-in)>, '_ih': ['', 'def func():\\n    return 1', 'def func():\\n    return 1', 'def func():\\n    return 1', 'def func():\\n    return 1', 'func()', 'def func():\\n    return 1', 'func()', \"s= 'Let me do this'\\ndef func():\\n    print(locals())\\n    print(globals())\\n    print('hello')\", 'func()', 'print(locals())', \"def hello(name='Keerthana'):\\n    return 'Hello'+name\", 'hello()', 'greet=hello()', 'del hello()', 'del hello', 'hello()', 'greet()', \"def hello(name='Keerthana'):\\n    return 'Hello'+name\", \"def hello(name='Keerthana'):\\n    return 'Hello '+name\", 'hello()', 'greet=hello', 'del hello', 'hello()', 'greet()', \"def hello(name='Keerthana'):\\n    print('hello() executed')\", \"def hello(name='Keerthana'):\\n    print('hello() executed')\\n    \\n    def greet():\\n        return 'This is inside greet()'\\n    def welcome():\\n        return 'welcome() executed'\", \"def hello(name='Keerthana'):\\n    print('hello() executed')\\n    \\n    def greet():\\n        return 'This is inside greet()'\\n    def welcome():\\n        return 'welcome() executed'\\n    print greet()\\n    print welcome()\", \"def hello(name='Keerthana'):\\n    print('hello() executed')\\n    \\n    def greet():\\n        return 'This is inside greet()'\\n    def welcome():\\n        return 'welcome() executed'\\n    print(greet())\\n    print(welcome()\", \"def hello(name='Keerthana'):\\n    print('hello() executed')\\n    \\n    def greet():\\n        return 'This is inside greet()'\\n    def welcome():\\n        return 'welcome() executed'\\n    print(greet())\\n    print(welcome())\", 'hello()', 'greet()', 'welcome()', 'print(globals())'], '_oh': {5: 1, 7: 1, 12: 'HelloKeerthana', 20: 'Hello Keerthana', 24: 'Hello Keerthana', 31: 'Hello Keerthana'}, '_dh': ['C:\\\\Users\\\\margam'], 'In': ['', 'def func():\\n    return 1', 'def func():\\n    return 1', 'def func():\\n    return 1', 'def func():\\n    return 1', 'func()', 'def func():\\n    return 1', 'func()', \"s= 'Let me do this'\\ndef func():\\n    print(locals())\\n    print(globals())\\n    print('hello')\", 'func()', 'print(locals())', \"def hello(name='Keerthana'):\\n    return 'Hello'+name\", 'hello()', 'greet=hello()', 'del hello()', 'del hello', 'hello()', 'greet()', \"def hello(name='Keerthana'):\\n    return 'Hello'+name\", \"def hello(name='Keerthana'):\\n    return 'Hello '+name\", 'hello()', 'greet=hello', 'del hello', 'hello()', 'greet()', \"def hello(name='Keerthana'):\\n    print('hello() executed')\", \"def hello(name='Keerthana'):\\n    print('hello() executed')\\n    \\n    def greet():\\n        return 'This is inside greet()'\\n    def welcome():\\n        return 'welcome() executed'\", \"def hello(name='Keerthana'):\\n    print('hello() executed')\\n    \\n    def greet():\\n        return 'This is inside greet()'\\n    def welcome():\\n        return 'welcome() executed'\\n    print greet()\\n    print welcome()\", \"def hello(name='Keerthana'):\\n    print('hello() executed')\\n    \\n    def greet():\\n        return 'This is inside greet()'\\n    def welcome():\\n        return 'welcome() executed'\\n    print(greet())\\n    print(welcome()\", \"def hello(name='Keerthana'):\\n    print('hello() executed')\\n    \\n    def greet():\\n        return 'This is inside greet()'\\n    def welcome():\\n        return 'welcome() executed'\\n    print(greet())\\n    print(welcome())\", 'hello()', 'greet()', 'welcome()', 'print(globals())'], 'Out': {5: 1, 7: 1, 12: 'HelloKeerthana', 20: 'Hello Keerthana', 24: 'Hello Keerthana', 31: 'Hello Keerthana'}, 'get_ipython': <bound method InteractiveShell.get_ipython of <ipykernel.zmqshell.ZMQInteractiveShell object at 0x037E9BB0>>, 'exit': <IPython.core.autocall.ZMQExitAutocall object at 0x03823770>, 'quit': <IPython.core.autocall.ZMQExitAutocall object at 0x03823770>, '_': 'Hello Keerthana', '__': 'Hello Keerthana', '___': 'Hello Keerthana', '_i': 'welcome()', '_ii': 'greet()', '_iii': 'hello()', '_i1': 'def func():\\n    return 1', 'func': <function func at 0x04E51ED0>, '_i2': 'def func():\\n    return 1', '_i3': 'def func():\\n    return 1', '_i4': 'def func():\\n    return 1', '_i5': 'func()', '_5': 1, '_i6': 'def func():\\n    return 1', '_i7': 'func()', '_7': 1, '_i8': \"s= 'Let me do this'\\ndef func():\\n    print(locals())\\n    print(globals())\\n    print('hello')\", 's': 'Let me do this', '_i9': 'func()', '_i10': 'print(locals())', '_i11': \"def hello(name='Keerthana'):\\n    return 'Hello'+name\", '_i12': 'hello()', '_12': 'HelloKeerthana', '_i13': 'greet=hello()', 'greet': <function hello at 0x050CCB70>, '_i14': 'del hello()', '_i15': 'del hello', '_i16': 'hello()', '_i17': 'greet()', '_i18': \"def hello(name='Keerthana'):\\n    return 'Hello'+name\", '_i19': \"def hello(name='Keerthana'):\\n    return 'Hello '+name\", '_i20': 'hello()', '_20': 'Hello Keerthana', '_i21': 'greet=hello', '_i22': 'del hello', '_i23': 'hello()', '_i24': 'greet()', '_24': 'Hello Keerthana', '_i25': \"def hello(name='Keerthana'):\\n    print('hello() executed')\", 'hello': <function hello at 0x050CC978>, '_i26': \"def hello(name='Keerthana'):\\n    print('hello() executed')\\n    \\n    def greet():\\n        return 'This is inside greet()'\\n    def welcome():\\n        return 'welcome() executed'\", '_i27': \"def hello(name='Keerthana'):\\n    print('hello() executed')\\n    \\n    def greet():\\n        return 'This is inside greet()'\\n    def welcome():\\n        return 'welcome() executed'\\n    print greet()\\n    print welcome()\", '_i28': \"def hello(name='Keerthana'):\\n    print('hello() executed')\\n    \\n    def greet():\\n        return 'This is inside greet()'\\n    def welcome():\\n        return 'welcome() executed'\\n    print(greet())\\n    print(welcome()\", '_i29': \"def hello(name='Keerthana'):\\n    print('hello() executed')\\n    \\n    def greet():\\n        return 'This is inside greet()'\\n    def welcome():\\n        return 'welcome() executed'\\n    print(greet())\\n    print(welcome())\", '_i30': 'hello()', '_i31': 'greet()', '_31': 'Hello Keerthana', '_i32': 'welcome()', '_i33': 'print(globals())'}\n"
     ]
    }
   ],
   "source": [
    "print(globals())"
   ]
  },
  {
   "cell_type": "code",
   "execution_count": 56,
   "metadata": {
    "collapsed": true
   },
   "outputs": [],
   "source": [
    "def hello(name='Keerthana'):\n",
    "    \n",
    "    \n",
    "    def greet():\n",
    "        return 'This is inside greet()'\n",
    "    def welcome():\n",
    "        return 'welcome() executed'\n",
    "    \n",
    "    if name =='Keerthana':\n",
    "        return greet\n",
    "    else:\n",
    "        return welcome"
   ]
  },
  {
   "cell_type": "code",
   "execution_count": 57,
   "metadata": {},
   "outputs": [],
   "source": [
    "x=hello()"
   ]
  },
  {
   "cell_type": "code",
   "execution_count": 58,
   "metadata": {},
   "outputs": [
    {
     "data": {
      "text/plain": [
       "<function __main__.hello.<locals>.greet>"
      ]
     },
     "execution_count": 58,
     "metadata": {},
     "output_type": "execute_result"
    }
   ],
   "source": [
    "x"
   ]
  },
  {
   "cell_type": "code",
   "execution_count": 59,
   "metadata": {},
   "outputs": [
    {
     "name": "stdout",
     "output_type": "stream",
     "text": [
      "This is inside greet()\n"
     ]
    }
   ],
   "source": [
    "print(x())"
   ]
  },
  {
   "cell_type": "markdown",
   "metadata": {},
   "source": [
    "functions as arguments"
   ]
  },
  {
   "cell_type": "code",
   "execution_count": 60,
   "metadata": {
    "collapsed": true
   },
   "outputs": [],
   "source": [
    "def hello():\n",
    "    return 'Hi Keerthana'"
   ]
  },
  {
   "cell_type": "code",
   "execution_count": 62,
   "metadata": {},
   "outputs": [],
   "source": [
    "def other(func):\n",
    "    print('other code comes here')\n",
    "    print(func())"
   ]
  },
  {
   "cell_type": "code",
   "execution_count": 63,
   "metadata": {},
   "outputs": [
    {
     "name": "stdout",
     "output_type": "stream",
     "text": [
      "other code comes here\n",
      "{}\n",
      "{'__name__': '__main__', '__doc__': 'Automatically created module for IPython interactive environment', '__package__': None, '__loader__': None, '__spec__': None, '__builtin__': <module 'builtins' (built-in)>, '__builtins__': <module 'builtins' (built-in)>, '_ih': ['', 'def func():\\n    return 1', 'def func():\\n    return 1', 'def func():\\n    return 1', 'def func():\\n    return 1', 'func()', 'def func():\\n    return 1', 'func()', \"s= 'Let me do this'\\ndef func():\\n    print(locals())\\n    print(globals())\\n    print('hello')\", 'func()', 'print(locals())', \"def hello(name='Keerthana'):\\n    return 'Hello'+name\", 'hello()', 'greet=hello()', 'del hello()', 'del hello', 'hello()', 'greet()', \"def hello(name='Keerthana'):\\n    return 'Hello'+name\", \"def hello(name='Keerthana'):\\n    return 'Hello '+name\", 'hello()', 'greet=hello', 'del hello', 'hello()', 'greet()', \"def hello(name='Keerthana'):\\n    print('hello() executed')\", \"def hello(name='Keerthana'):\\n    print('hello() executed')\\n    \\n    def greet():\\n        return 'This is inside greet()'\\n    def welcome():\\n        return 'welcome() executed'\", \"def hello(name='Keerthana'):\\n    print('hello() executed')\\n    \\n    def greet():\\n        return 'This is inside greet()'\\n    def welcome():\\n        return 'welcome() executed'\\n    print greet()\\n    print welcome()\", \"def hello(name='Keerthana'):\\n    print('hello() executed')\\n    \\n    def greet():\\n        return 'This is inside greet()'\\n    def welcome():\\n        return 'welcome() executed'\\n    print(greet())\\n    print(welcome()\", \"def hello(name='Keerthana'):\\n    print('hello() executed')\\n    \\n    def greet():\\n        return 'This is inside greet()'\\n    def welcome():\\n        return 'welcome() executed'\\n    print(greet())\\n    print(welcome())\", 'hello()', 'greet()', 'welcome()', 'print(globals())', \"def hello(name='Keerthana'):\\n    print('hello() executed')\\n    \\n    def greet():\\n        return 'This is inside greet()'\\n    def welcome():\\n        return 'welcome() executed'\\n    if name=='Keerthana':\\n        return greet\\n    else:\\n        return welcome\", 'hello()', 'x=hello()', 'print(x)', 'x=hello()', \"def hello(name='Keerthana'):\\n    \\n    \\n    def greet():\\n        return 'This is inside greet()'\\n    def welcome():\\n        return 'welcome() executed'\\n    if name=='Keerthana':\\n        return greet\\n    else:\\n        return welcome\", 'x=hello()', 'x=hello()', 'print(x)', 'x=hello()', 'x', 'print(x)', \"def hello(name='Keerthana'):\\n    \\n    \\n    def greet():\\n        return 'This is inside greet()'\\n    def welcome():\\n        return 'welcome() executed'\\n    \\n    if name =='Keerthana':\\n        return greet\\n    else:\\n        return welcome\", 'x=hello()', 'x', 'print(x)', 'print(x())', \"def hello(name='Keerthana'):\\n    \\n    \\n    def greet():\\n        return 'This is inside greet()'\\n    def welcome():\\n        return 'welcome() executed'\\n    \\n    if name =='Keerthana':\\n        return greet()\\n    else:\\n        return welcome\", 'x=hello()', 'x', 'print(x())', 'print(x)', \"def hello(name='Keerthana'):\\n    \\n    \\n    def greet():\\n        return 'This is inside greet()'\\n    def welcome():\\n        return 'welcome() executed'\\n    \\n    if name =='Keerthana':\\n        return greet\\n    else:\\n        return welcome\", 'x=hello()', 'x', 'print(x())', \"def hello():\\n    return 'Hi Keerthana'\", \"def other(func):\\n    print('other code comes here')\\n    print func()\", \"def other(func):\\n    print('other code comes here')\\n    print(func())\", 'other(func)'], '_oh': {5: 1, 7: 1, 12: 'HelloKeerthana', 20: 'Hello Keerthana', 24: 'Hello Keerthana', 31: 'Hello Keerthana', 35: <function hello.<locals>.greet at 0x050FA468>, 44: <function hello.<locals>.greet at 0x050FAC00>, 48: <function hello.<locals>.greet at 0x050FAC90>, 53: 'This is inside greet()', 58: <function hello.<locals>.greet at 0x050CCD20>}, '_dh': ['C:\\\\Users\\\\margam'], 'In': ['', 'def func():\\n    return 1', 'def func():\\n    return 1', 'def func():\\n    return 1', 'def func():\\n    return 1', 'func()', 'def func():\\n    return 1', 'func()', \"s= 'Let me do this'\\ndef func():\\n    print(locals())\\n    print(globals())\\n    print('hello')\", 'func()', 'print(locals())', \"def hello(name='Keerthana'):\\n    return 'Hello'+name\", 'hello()', 'greet=hello()', 'del hello()', 'del hello', 'hello()', 'greet()', \"def hello(name='Keerthana'):\\n    return 'Hello'+name\", \"def hello(name='Keerthana'):\\n    return 'Hello '+name\", 'hello()', 'greet=hello', 'del hello', 'hello()', 'greet()', \"def hello(name='Keerthana'):\\n    print('hello() executed')\", \"def hello(name='Keerthana'):\\n    print('hello() executed')\\n    \\n    def greet():\\n        return 'This is inside greet()'\\n    def welcome():\\n        return 'welcome() executed'\", \"def hello(name='Keerthana'):\\n    print('hello() executed')\\n    \\n    def greet():\\n        return 'This is inside greet()'\\n    def welcome():\\n        return 'welcome() executed'\\n    print greet()\\n    print welcome()\", \"def hello(name='Keerthana'):\\n    print('hello() executed')\\n    \\n    def greet():\\n        return 'This is inside greet()'\\n    def welcome():\\n        return 'welcome() executed'\\n    print(greet())\\n    print(welcome()\", \"def hello(name='Keerthana'):\\n    print('hello() executed')\\n    \\n    def greet():\\n        return 'This is inside greet()'\\n    def welcome():\\n        return 'welcome() executed'\\n    print(greet())\\n    print(welcome())\", 'hello()', 'greet()', 'welcome()', 'print(globals())', \"def hello(name='Keerthana'):\\n    print('hello() executed')\\n    \\n    def greet():\\n        return 'This is inside greet()'\\n    def welcome():\\n        return 'welcome() executed'\\n    if name=='Keerthana':\\n        return greet\\n    else:\\n        return welcome\", 'hello()', 'x=hello()', 'print(x)', 'x=hello()', \"def hello(name='Keerthana'):\\n    \\n    \\n    def greet():\\n        return 'This is inside greet()'\\n    def welcome():\\n        return 'welcome() executed'\\n    if name=='Keerthana':\\n        return greet\\n    else:\\n        return welcome\", 'x=hello()', 'x=hello()', 'print(x)', 'x=hello()', 'x', 'print(x)', \"def hello(name='Keerthana'):\\n    \\n    \\n    def greet():\\n        return 'This is inside greet()'\\n    def welcome():\\n        return 'welcome() executed'\\n    \\n    if name =='Keerthana':\\n        return greet\\n    else:\\n        return welcome\", 'x=hello()', 'x', 'print(x)', 'print(x())', \"def hello(name='Keerthana'):\\n    \\n    \\n    def greet():\\n        return 'This is inside greet()'\\n    def welcome():\\n        return 'welcome() executed'\\n    \\n    if name =='Keerthana':\\n        return greet()\\n    else:\\n        return welcome\", 'x=hello()', 'x', 'print(x())', 'print(x)', \"def hello(name='Keerthana'):\\n    \\n    \\n    def greet():\\n        return 'This is inside greet()'\\n    def welcome():\\n        return 'welcome() executed'\\n    \\n    if name =='Keerthana':\\n        return greet\\n    else:\\n        return welcome\", 'x=hello()', 'x', 'print(x())', \"def hello():\\n    return 'Hi Keerthana'\", \"def other(func):\\n    print('other code comes here')\\n    print func()\", \"def other(func):\\n    print('other code comes here')\\n    print(func())\", 'other(func)'], 'Out': {5: 1, 7: 1, 12: 'HelloKeerthana', 20: 'Hello Keerthana', 24: 'Hello Keerthana', 31: 'Hello Keerthana', 35: <function hello.<locals>.greet at 0x050FA468>, 44: <function hello.<locals>.greet at 0x050FAC00>, 48: <function hello.<locals>.greet at 0x050FAC90>, 53: 'This is inside greet()', 58: <function hello.<locals>.greet at 0x050CCD20>}, 'get_ipython': <bound method InteractiveShell.get_ipython of <ipykernel.zmqshell.ZMQInteractiveShell object at 0x037E9BB0>>, 'exit': <IPython.core.autocall.ZMQExitAutocall object at 0x03823770>, 'quit': <IPython.core.autocall.ZMQExitAutocall object at 0x03823770>, '_': <function hello.<locals>.greet at 0x050CCD20>, '__': 'This is inside greet()', '___': <function hello.<locals>.greet at 0x050FAC90>, '_i': \"def other(func):\\n    print('other code comes here')\\n    print(func())\", '_ii': \"def other(func):\\n    print('other code comes here')\\n    print func()\", '_iii': \"def hello():\\n    return 'Hi Keerthana'\", '_i1': 'def func():\\n    return 1', 'func': <function func at 0x04E51ED0>, '_i2': 'def func():\\n    return 1', '_i3': 'def func():\\n    return 1', '_i4': 'def func():\\n    return 1', '_i5': 'func()', '_5': 1, '_i6': 'def func():\\n    return 1', '_i7': 'func()', '_7': 1, '_i8': \"s= 'Let me do this'\\ndef func():\\n    print(locals())\\n    print(globals())\\n    print('hello')\", 's': 'Let me do this', '_i9': 'func()', '_i10': 'print(locals())', '_i11': \"def hello(name='Keerthana'):\\n    return 'Hello'+name\", '_i12': 'hello()', '_12': 'HelloKeerthana', '_i13': 'greet=hello()', 'greet': <function hello at 0x050CCB70>, '_i14': 'del hello()', '_i15': 'del hello', '_i16': 'hello()', '_i17': 'greet()', '_i18': \"def hello(name='Keerthana'):\\n    return 'Hello'+name\", '_i19': \"def hello(name='Keerthana'):\\n    return 'Hello '+name\", '_i20': 'hello()', '_20': 'Hello Keerthana', '_i21': 'greet=hello', '_i22': 'del hello', '_i23': 'hello()', '_i24': 'greet()', '_24': 'Hello Keerthana', '_i25': \"def hello(name='Keerthana'):\\n    print('hello() executed')\", 'hello': <function hello at 0x05116150>, '_i26': \"def hello(name='Keerthana'):\\n    print('hello() executed')\\n    \\n    def greet():\\n        return 'This is inside greet()'\\n    def welcome():\\n        return 'welcome() executed'\", '_i27': \"def hello(name='Keerthana'):\\n    print('hello() executed')\\n    \\n    def greet():\\n        return 'This is inside greet()'\\n    def welcome():\\n        return 'welcome() executed'\\n    print greet()\\n    print welcome()\", '_i28': \"def hello(name='Keerthana'):\\n    print('hello() executed')\\n    \\n    def greet():\\n        return 'This is inside greet()'\\n    def welcome():\\n        return 'welcome() executed'\\n    print(greet())\\n    print(welcome()\", '_i29': \"def hello(name='Keerthana'):\\n    print('hello() executed')\\n    \\n    def greet():\\n        return 'This is inside greet()'\\n    def welcome():\\n        return 'welcome() executed'\\n    print(greet())\\n    print(welcome())\", '_i30': 'hello()', '_i31': 'greet()', '_31': 'Hello Keerthana', '_i32': 'welcome()', '_i33': 'print(globals())', '_i34': \"def hello(name='Keerthana'):\\n    print('hello() executed')\\n    \\n    def greet():\\n        return 'This is inside greet()'\\n    def welcome():\\n        return 'welcome() executed'\\n    if name=='Keerthana':\\n        return greet\\n    else:\\n        return welcome\", '_i35': 'hello()', '_35': <function hello.<locals>.greet at 0x050FA468>, '_i36': 'x=hello()', 'x': <function hello.<locals>.greet at 0x050CCD20>, '_i37': 'print(x)', '_i38': 'x=hello()', '_i39': \"def hello(name='Keerthana'):\\n    \\n    \\n    def greet():\\n        return 'This is inside greet()'\\n    def welcome():\\n        return 'welcome() executed'\\n    if name=='Keerthana':\\n        return greet\\n    else:\\n        return welcome\", '_i40': 'x=hello()', '_i41': 'x=hello()', '_i42': 'print(x)', '_i43': 'x=hello()', '_i44': 'x', '_44': <function hello.<locals>.greet at 0x050FAC00>, '_i45': 'print(x)', '_i46': \"def hello(name='Keerthana'):\\n    \\n    \\n    def greet():\\n        return 'This is inside greet()'\\n    def welcome():\\n        return 'welcome() executed'\\n    \\n    if name =='Keerthana':\\n        return greet\\n    else:\\n        return welcome\", '_i47': 'x=hello()', '_i48': 'x', '_48': <function hello.<locals>.greet at 0x050FAC90>, '_i49': 'print(x)', '_i50': 'print(x())', '_i51': \"def hello(name='Keerthana'):\\n    \\n    \\n    def greet():\\n        return 'This is inside greet()'\\n    def welcome():\\n        return 'welcome() executed'\\n    \\n    if name =='Keerthana':\\n        return greet()\\n    else:\\n        return welcome\", '_i52': 'x=hello()', '_i53': 'x', '_53': 'This is inside greet()', '_i54': 'print(x())', '_i55': 'print(x)', '_i56': \"def hello(name='Keerthana'):\\n    \\n    \\n    def greet():\\n        return 'This is inside greet()'\\n    def welcome():\\n        return 'welcome() executed'\\n    \\n    if name =='Keerthana':\\n        return greet\\n    else:\\n        return welcome\", '_i57': 'x=hello()', '_i58': 'x', '_58': <function hello.<locals>.greet at 0x050CCD20>, '_i59': 'print(x())', '_i60': \"def hello():\\n    return 'Hi Keerthana'\", '_i61': \"def other(func):\\n    print('other code comes here')\\n    print func()\", '_i62': \"def other(func):\\n    print('other code comes here')\\n    print(func())\", 'other': <function other at 0x050CCDB0>, '_i63': 'other(func)'}\n",
      "hello\n",
      "None\n"
     ]
    }
   ],
   "source": [
    "other(func)"
   ]
  },
  {
   "cell_type": "code",
   "execution_count": 64,
   "metadata": {},
   "outputs": [
    {
     "name": "stdout",
     "output_type": "stream",
     "text": [
      "other code comes here\n",
      "Hi Keerthana\n"
     ]
    }
   ],
   "source": [
    "other(hello)"
   ]
  }
 ],
 "metadata": {
  "kernelspec": {
   "display_name": "Python 3",
   "language": "python",
   "name": "python3"
  },
  "language_info": {
   "codemirror_mode": {
    "name": "ipython",
    "version": 3
   },
   "file_extension": ".py",
   "mimetype": "text/x-python",
   "name": "python",
   "nbconvert_exporter": "python",
   "pygments_lexer": "ipython3",
   "version": "3.6.3"
  }
 },
 "nbformat": 4,
 "nbformat_minor": 2
}
